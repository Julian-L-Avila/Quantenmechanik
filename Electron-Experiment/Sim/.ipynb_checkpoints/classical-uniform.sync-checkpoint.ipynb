{
 "cells": [
  {
   "cell_type": "markdown",
   "id": "06549788",
   "metadata": {},
   "source": [
    "# Classical Uniform Electron Beam Simulation\n",
    "\n",
    "This notebook simulates the trajectory of electrons in a time-varying magnetic field and visualizes the pattern formed on a screen. It is based on the `classical-uniform.py` script."
   ]
  },
  {
   "cell_type": "markdown",
   "id": "ad7d98ca",
   "metadata": {},
   "source": [
    "## 1. Imports\n",
    "\n",
    "Import necessary libraries: `numpy` for numerical operations, `scipy` for solving ordinary differential equations, and `matplotlib` for plotting."
   ]
  },
  {
   "cell_type": "code",
   "execution_count": 1,
   "id": "9e1ad508",
   "metadata": {
    "execution": {
     "iopub.execute_input": "2025-06-21T21:08:09.217939Z",
     "iopub.status.busy": "2025-06-21T21:08:09.216758Z",
     "iopub.status.idle": "2025-06-21T21:08:11.389851Z",
     "shell.execute_reply": "2025-06-21T21:08:11.388770Z"
    }
   },
   "outputs": [],
   "source": [
    "import numpy as np\n",
    "from scipy.integrate import solve_ivp\n",
    "import matplotlib.pyplot as plt"
   ]
  },
  {
   "cell_type": "markdown",
   "id": "a15117ae",
   "metadata": {},
   "source": [
    "## 2. Physical Constants and Simulation Parameters\n",
    "\n",
    "Define the physical constants (in Gaussian units) and the parameters for the simulation."
   ]
  },
  {
   "cell_type": "code",
   "execution_count": 2,
   "id": "8361b693",
   "metadata": {
    "execution": {
     "iopub.execute_input": "2025-06-21T21:08:11.394310Z",
     "iopub.status.busy": "2025-06-21T21:08:11.393801Z",
     "iopub.status.idle": "2025-06-21T21:08:11.399695Z",
     "shell.execute_reply": "2025-06-21T21:08:11.398802Z"
    }
   },
   "outputs": [],
   "source": [
    "# Physical constants (Gaussian units)\n",
    "m_e = 9.10938356e-28  # Mass of electron (g)\n",
    "e_charge = 4.80320425e-10 # Charge of electron (statcoulomb or esu)\n",
    "c_light = 2.99792458e10   # Speed of light (cm/s)\n",
    "\n",
    "# Simulation parameters\n",
    "# CRITICAL FIX: Reduced B-field strength to prevent non-physical velocities.\n",
    "# The original value of 10.0 G caused numerical instability.\n",
    "B_02_sim = 0.1   # Gauss\n",
    "B_03_sim = 0.1   # Gauss\n",
    "w_2_sim = 1.0e7    # rad/s\n",
    "w_3_sim = 1.5e7    # rad/s\n",
    "L_sim = 100.0      # cm (length of the beam path to the screen)\n",
    "v_initial_sim = c_light / 10.0 # Initial velocity in x1 direction\n",
    "\n",
    "num_electrons_sim = 200 # Number of electrons to simulate"
   ]
  },
  {
   "cell_type": "markdown",
   "id": "e3c5bcee",
   "metadata": {},
   "source": [
    "## 3. B-Field Definitions\n",
    "\n",
    "Functions to define the time-varying magnetic fields $B_2(t)$ and $B_3(t)$ and their time derivatives."
   ]
  },
  {
   "cell_type": "code",
   "execution_count": 3,
   "id": "a4f32a9e",
   "metadata": {
    "execution": {
     "iopub.execute_input": "2025-06-21T21:08:11.403048Z",
     "iopub.status.busy": "2025-06-21T21:08:11.402688Z",
     "iopub.status.idle": "2025-06-21T21:08:11.408377Z",
     "shell.execute_reply": "2025-06-21T21:08:11.407582Z"
    }
   },
   "outputs": [],
   "source": [
    "def B2_field(t, B_02_param, w_2_param):\n",
    "    return B_02_param * np.sin(w_2_param * t)\n",
    "\n",
    "def dB2_dt_field(t, B_02_param, w_2_param):\n",
    "    return B_02_param * w_2_param * np.cos(w_2_param * t)\n",
    "\n",
    "def B3_field(t, B_03_param, w_3_param):\n",
    "    return B_03_param * np.sin(w_3_param * t)\n",
    "\n",
    "def dB3_dt_field(t, B_03_param, w_3_param):\n",
    "    return B_03_param * w_3_param * np.cos(w_3_param * t)"
   ]
  },
  {
   "cell_type": "markdown",
   "id": "894da472",
   "metadata": {},
   "source": [
    "## 4. Equations of Motion\n",
    "\n",
    "Defines the system of ordinary differential equations (ODEs) that describe the motion of an electron in the magnetic fields. \n",
    "\n",
    "The ODE function takes `t_offset` as an argument. This offset represents the launch time of a specific electron on a global clock, allowing us to simulate electrons launched at different phases of the oscillating B-fields."
   ]
  },
  {
   "cell_type": "code",
   "execution_count": 4,
   "id": "75530bde",
   "metadata": {
    "execution": {
     "iopub.execute_input": "2025-06-21T21:08:11.411431Z",
     "iopub.status.busy": "2025-06-21T21:08:11.411086Z",
     "iopub.status.idle": "2025-06-21T21:08:11.419394Z",
     "shell.execute_reply": "2025-06-21T21:08:11.418616Z"
    }
   },
   "outputs": [],
   "source": [
    "# REFACTORED: The ODE function is now defined once and takes t_offset as an argument.\n",
    "# This is a cleaner and more robust approach than redefining a function in each loop iteration.\n",
    "def equations_of_motion(t_particle, y, m, e, c, B_02_param, w_2_param, B_03_param, w_3_param, t_offset):\n",
    "    # The B-field evolves on a global clock. Its phase depends on when the electron was launched (t_offset).\n",
    "    # The solver's time, t_particle, is the time since that specific electron's launch.\n",
    "    global_t = t_particle + t_offset\n",
    "    \n",
    "    x1, x2, x3, v1, v2, v3 = y\n",
    "    \n",
    "    B2_t = B2_field(global_t, B_02_param, w_2_param)\n",
    "    dB2_dt_t = dB2_dt_field(global_t, B_02_param, w_2_param)\n",
    "    B3_t = B3_field(global_t, B_03_param, w_3_param)\n",
    "    dB3_dt_t = dB3_dt_field(global_t, B_03_param, w_3_param)\n",
    "    \n",
    "    # The equations of motion as provided in the notebook\n",
    "    a1 = (e / (2 * m * c)) * (x3 * dB2_dt_t - x2 * dB3_dt_t)\n",
    "    a2 = (e / (m * c)) * (0.5 * x1 * dB3_dt_t - v1 * B3_t)\n",
    "    a3 = (e / (m * c)) * (-0.5 * x1 * dB2_dt_t + v1 * B2_t)\n",
    "    \n",
    "    return [v1, v2, v3, a1, a2, a3]"
   ]
  },
  {
   "cell_type": "markdown",
   "id": "0946de0b",
   "metadata": {},
   "source": [
    "## 5. Simulate Electron Trajectories\n",
    "\n",
    "This section simulates the trajectories of multiple electrons. Each electron is launched at a slightly different time (`t_offset`) to capture the effect of the oscillating fields. The final positions of the electrons on a screen located at $x_1 = L$ are recorded."
   ]
  },
  {
   "cell_type": "code",
   "execution_count": 5,
   "id": "a735ce0f",
   "metadata": {
    "execution": {
     "iopub.execute_input": "2025-06-21T21:08:11.422484Z",
     "iopub.status.busy": "2025-06-21T21:08:11.422141Z",
     "iopub.status.idle": "2025-06-21T21:08:11.945414Z",
     "shell.execute_reply": "2025-06-21T21:08:11.944169Z"
    }
   },
   "outputs": [
    {
     "name": "stdout",
     "output_type": "stream",
     "text": [
      "Approximate time of flight: 3.34e-08 s\n",
      "Simulating 200 electrons...\n",
      "  Simulated 20/200 electrons...\n",
      "  Simulated 40/200 electrons...\n",
      "  Simulated 60/200 electrons...\n",
      "  Simulated 80/200 electrons...\n",
      "  Simulated 100/200 electrons...\n",
      "  Simulated 120/200 electrons...\n",
      "  Simulated 140/200 electrons...\n",
      "  Simulated 160/200 electrons...\n",
      "  Simulated 180/200 electrons...\n",
      "  Simulated 200/200 electrons...\n",
      "Simulation complete.\n"
     ]
    }
   ],
   "source": [
    "screen_positions_x2 = []\n",
    "screen_positions_x3 = []\n",
    "\n",
    "# Approximate time of flight for one electron. Used to set the integration interval.\n",
    "t_flight_approx = L_sim / v_initial_sim\n",
    "t_span = (0, t_flight_approx) \n",
    "\n",
    "# REVISED LOGIC/COMMENT: The following clarifies how electrons are launched.\n",
    "# To generate a pattern, we simulate electrons launched at different times into the\n",
    "# oscillating magnetic fields. This is modeled with a 't_offset' for each electron,\n",
    "# representing its launch time on a global clock. This is equivalent to applying\n",
    "# a different initial phase of the B-fields for each electron.\n",
    "characteristic_period = 2 * np.pi / max(w_2_sim, w_3_sim)\n",
    "total_launch_time = characteristic_period * 5 # Launch electrons over 5 cycles of the faster B-field\n",
    "\n",
    "print(f\"Approximate time of flight: {t_flight_approx:.2e} s\")\n",
    "print(f\"Simulating {num_electrons_sim} electrons...\")\n",
    "\n",
    "for i in range(num_electrons_sim):\n",
    "    # This offset simulates launching electrons sequentially into the evolving B-fields.\n",
    "    t_offset = (i / num_electrons_sim) * total_launch_time\n",
    "\n",
    "    # Initial conditions: [x1, x2, x3, v1, v2, v3]\n",
    "    y0 = [0, 0, 0, v_initial_sim, 0, 0]\n",
    "    \n",
    "    # Set evaluation times for dense output. Ensures smooth trajectory data.\n",
    "    num_time_points = int(max(w_2_sim, w_3_sim) * t_flight_approx / (2*np.pi) * 30)\n",
    "    num_time_points = max(num_time_points, 200) \n",
    "    t_eval = np.linspace(t_span[0], t_span[1], num_time_points)\n",
    "\n",
    "    # REFACTORED: Use the 'args' parameter to pass arguments to the ODE function.\n",
    "    # This is the standard, efficient, and correct way to handle changing parameters in a loop.\n",
    "    sol = solve_ivp(\n",
    "        fun=equations_of_motion, \n",
    "        t_span=t_span, \n",
    "        y0=y0, \n",
    "        method='RK45',\n",
    "        dense_output=True, # Recommended for accurate final point interpolation\n",
    "        t_eval=t_eval,\n",
    "        args=(m_e, e_charge, c_light, B_02_sim, w_2_sim, B_03_sim, w_3_sim, t_offset)\n",
    "    )\n",
    "    \n",
    "    # Extract the final position on the screen\n",
    "    final_state = sol.y[:, -1]\n",
    "    screen_positions_x2.append(final_state[1])\n",
    "    screen_positions_x3.append(final_state[2])\n",
    "    \n",
    "    if (i+1) % (num_electrons_sim // 10) == 0:\n",
    "        print(f\"  Simulated {i+1}/{num_electrons_sim} electrons...\")\n",
    "\n",
    "print(\"Simulation complete.\")"
   ]
  },
  {
   "cell_type": "markdown",
   "id": "245d8154",
   "metadata": {},
   "source": [
    "## 6. Plot the Screen Pattern\n",
    "\n",
    "Visualize the positions of the electrons on the screen. This creates a scatter plot of $(x_2, x_3)$ coordinates."
   ]
  },
  {
   "cell_type": "code",
   "execution_count": 6,
   "id": "1a4365b1",
   "metadata": {
    "execution": {
     "iopub.execute_input": "2025-06-21T21:08:11.949120Z",
     "iopub.status.busy": "2025-06-21T21:08:11.948662Z",
     "iopub.status.idle": "2025-06-21T21:08:12.230292Z",
     "shell.execute_reply": "2025-06-21T21:08:12.229297Z"
    }
   },
   "outputs": [
    {
     "data": {
      "image/png": "[encoded data removed]",
      "text/plain": [
       "<Figure size 900x900 with 1 Axes>"
      ]
     },
     "metadata": {},
     "output_type": "display_data"
    }
   ],
   "source": [
    "plt.figure(figsize=(9, 9))\n",
    "plt.scatter(screen_positions_x2, screen_positions_x3, s=10, alpha=0.7)\n",
    "plt.title(f'Electron Beam Pattern on Screen (L={L_sim} cm, $B_0$={B_02_sim} G)')\n",
    "plt.xlabel('$x_2$ position (cm)')\n",
    "plt.ylabel('$x_3$ position (cm)')\n",
    "plt.grid(True)\n",
    "plt.axis('equal')\n",
    "plt.show()"
   ]
  }
 ],
 "metadata": {
  "kernelspec": {
   "display_name": "Python 3 (ipykernel)",
   "language": "python",
   "name": "python3"
  },
  "language_info": {
   "codemirror_mode": {
    "name": "ipython",
    "version": 3
   },
   "file_extension": ".py",
   "mimetype": "text/x-python",
   "name": "python",
   "nbconvert_exporter": "python",
   "pygments_lexer": "ipython3",
   "version": "3.11.2"
  }
 },
 "nbformat": 4,
 "nbformat_minor": 5
}
