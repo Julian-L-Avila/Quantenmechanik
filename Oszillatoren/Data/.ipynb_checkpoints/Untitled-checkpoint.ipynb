{
 "cells": [
  {
   "cell_type": "code",
   "execution_count": 3,
   "id": "1475986f-0592-424c-a695-ab4a676ae2a5",
   "metadata": {},
   "outputs": [],
   "source": [
    "from scipy.signal import find_peaks\n",
    "import os\n",
    "\n",
    "def graficar_resultados(tiempo, angulos, espectros, nombre_archivo):\n",
    "    nombres = ['1', '2', '3']\n",
    "    colores = ['skyblue', 'magenta', 'purple']\n",
    "    plt.figure(figsize=(12, 6))\n",
    "\n",
    "    # Gráfico Ángulo vs Tiempo\n",
    "    plt.subplot(2, 1, 1)\n",
    "    for i, angulo in enumerate(angulos):\n",
    "        plt.plot(tiempo, angulo, label=f'Péndulo {nombres[i]}', color=colores[i])\n",
    "    plt.title('Ángulo vs Tiempo')\n",
    "    plt.xlabel('Tiempo (s)')\n",
    "    plt.ylabel('Ángulo (rad)')\n",
    "    plt.legend()\n",
    "    plt.grid(True)\n",
    "\n",
    "    # Gráfico FFT con picos\n",
    "    plt.subplot(2, 1, 2)\n",
    "    for i, (frec, amp, N) in enumerate(espectros):\n",
    "        frec_pos = frec > 0\n",
    "        frec_plot = frec[frec_pos]\n",
    "        amp_plot = amp[frec_pos] * 2 / N\n",
    "\n",
    "        plt.plot(frec_plot, amp_plot, label=f'Péndulo {nombres[i]}', color=colores[i])\n",
    "\n",
    "        # Detección y anotación de picos\n",
    "        peaks, _ = find_peaks(amp_plot, height=np.max(amp_plot) * 0.1)\n",
    "        for p in peaks:\n",
    "            freq_val = frec_plot[p]\n",
    "            amp_val = amp_plot[p]\n",
    "            plt.plot(freq_val, amp_val, 'o', color=colores[i])\n",
    "            plt.text(freq_val, amp_val, f'{freq_val:.2f} Hz',\n",
    "                     fontsize=8, ha='left', va='bottom', rotation=45)\n",
    "\n",
    "    plt.title('Espectro de Frecuencias')\n",
    "    plt.xlabel('Frecuencia (Hz)')\n",
    "    plt.ylabel('Amplitud')\n",
    "    plt.grid(True)\n",
    "    plt.legend()\n",
    "\n",
    "    plt.tight_layout()\n",
    "\n",
    "    # Guardar figura\n",
    "    nombre_base = os.path.splitext(os.path.basename(001_15.tvs))[0]\n",
    "    salida = f'{nombre_base}_espectro.png'\n",
    "    plt.savefig(salida, dpi=300)\n",
    "    print(f\"Gráfico guardado como: {salida}\")\n",
    "    plt.show()\n"
   ]
  }
 ],
 "metadata": {
  "kernelspec": {
   "display_name": "Python 3 (ipykernel)",
   "language": "python",
   "name": "python3"
  },
  "language_info": {
   "codemirror_mode": {
    "name": "ipython",
    "version": 3
   },
   "file_extension": ".py",
   "mimetype": "text/x-python",
   "name": "python",
   "nbconvert_exporter": "python",
   "pygments_lexer": "ipython3",
   "version": "3.12.7"
  }
 },
 "nbformat": 4,
 "nbformat_minor": 5
}
