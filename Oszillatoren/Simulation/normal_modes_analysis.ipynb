{
    "cells": [
        {
            "cell_type": "markdown",
            "metadata": {},
            "source": [
                "# Analysis of Normal Modes for a Coupled Three-Pendulum System\n",
                "This notebook calculates and visualizes the normal modes of a coupled three-pendulum system. \n",
                "The system's physical parameters are defined, followed by the construction of the system matrix. \n",
                "Eigenvalue analysis is then performed to determine the normal mode frequencies and their corresponding mode shapes (eigenvectors)."
            ]
        },
        {
            "cell_type": "markdown",
            "metadata": {},
            "source": [
                "## System Parameters and Matrix Formulation\n",
                "The following code cell defines the physical parameters of the coupled pendulum system. These include spring constants, lengths, masses, moments of inertia, and the gravitational acceleration.\n",
                "Based on these parameters, the system matrix `A` is constructed. The dynamics of the system can be described by the equation `\\ddot{\\vec{\\theta}} = A \\vec{\theta}`, where `\\vec{\\theta}` is the vector of angular displacements of the pendulums. \n",
                "The eigenvalues `\\lambda` of matrix `A` are related to the normal mode angular frequencies `\\omega` by `\\lambda = -\\omega^2`. The eigenvectors of `A` represent the normal mode shapes, indicating the relative amplitudes of motion for each pendulum in that specific mode."
            ]
        },
        {
            "cell_type": "code",
            "metadata": {},
            "execution_count": null,
            "outputs": [],
            "source": [
                "import numpy as np\n",
                "import matplotlib.pyplot as plt\n",
                "\n",
                "# Physical Constants and Parameters (from sim.py)\n",
                "# These were previously in the __main__ section or as example values\n",
                "g_const = 9.81  # m/s^2\n",
                "k1_val = 3.32   # N/m oder N/rad, je nach Definition von cl\n",
                "k2_val = 3.04   # N/m oder N/rad\n",
                "cl_val = 0.046 * 6    # m\n",
                "dl_val = 0.046 * 6    # m\n",
                "y_cm1_val = 0.142 # m (angenommen positiv, wenn der Schwerpunkt eine rückstellende Kraft erzeugt)\n",
                "y_cm2_val = 0.28 # m (kann auch negativ sein, was die Natur des g-Terms ändert)\n",
                "y_cm3_val = 0.14 # m\n",
                "m1_val = 0.6008    # kg\n",
                "m2_val = 1.2163    # kg\n",
                "m3_val = 0.6018    # kg\n",
                "I1_val = m1_val * (0.28) ** 2 / 3.0    # kg*m^2\n",
                "I2_val = m2_val * (0.56) ** 2 / 3.0   # kg*m^2\n",
                "I3_val = m3_val * (0.28) ** 2 / 3.0   # kg*m^2\n",
                "\n",
                "# Define the elements of the matrix A (adapted from sim.py)\n",
                "# The equations are in the form \\ddot{theta} = A * theta\n",
                "# The eigenvalues of A are -omega^2\n",
                "\n",
                "# Original matrix element calculations from sim.py function:\n",
                "A11 = -((cl_val**2 * k1_val) + (y_cm1_val * m1_val * g_const)) / I1_val\n",
                "A12 = (k1_val * cl_val**2) / I1_val\n",
                "A13 = 0.0\n",
                "\n",
                "A21 = (k1_val * cl_val**2) / I2_val\n",
                "A22 = -((k2_val * dl_val**2) + (k1_val * cl_val**2) + (y_cm2_val * m2_val * g_const)) / I2_val\n",
                "A23 = (k2_val * dl_val**2) / I2_val\n",
                "\n",
                "A31 = 0.0\n",
                "A32 = (k2_val * dl_val**2) / I3_val\n",
                "A33 = -((k2_val * dl_val**2) + (y_cm3_val * m3_val * g_const)) / I3_val\n",
                "\n",
                "# Create the matrix A\n",
                "A_matrix = np.array([\n",
                "    [A11, A12, A13],\n",
                "    [A21, A22, A23],\n",
                "    [A31, A32, A33]\n",
                "])\n",
                "\n",
                "print(\"Systemmatrix A:\")\n",
                "print(A_matrix)\n",
                "\n",
                "# Calculate eigenvalues and eigenvectors of A\n",
                "# eigenvalues_A correspond to -omega^2\n",
                "# eigenvectors_A are the normal mode vectors (columns of the matrix)\n",
                "eigenvalues_A, eigenvectors_A = np.linalg.eig(A_matrix)\n",
                "\n",
                "print(\"\\nEigenvalues of A (lambda = -omega^2):\")\n",
                "print(eigenvalues_A)\n",
                "print(\"\\nEigenvectors of A (columns are mode vectors):\")\n",
                "print(eigenvectors_A)\n",
                "\n",
                "# Calculate omega^2 = -lambda\n",
                "omega_squared_values = -eigenvalues_A\n",
                "\n",
                "# Ensure omega^2 are not negative before taking sqrt\n",
                "# Handle potential small negative numbers due to numerics by taking max(0, val)\n",
                "angular_frequencies_rad_s = np.sqrt(np.maximum(0, omega_squared_values.astype(complex))).real\n",
                "\n",
                "print(\"\\nAngular frequencies (omega in rad/s):\")\n",
                "print(angular_frequencies_rad_s)\n",
                "\n",
                "# Convert angular frequencies to frequencies in Hz\n",
                "# f = omega / (2 * pi)\n",
                "normal_mode_frequencies_hz = angular_frequencies_rad_s / (2 * np.pi)\n",
                "\n",
                "print(\"\\nNormal Mode Frequencies (f in Hz):\")\n",
                "print(normal_mode_frequencies_hz)\n",
                "\n",
                "# Store eigenvectors for plotting (already in eigenvectors_A)\n",
                "# Each column in eigenvectors_A is an eigenvector\n",
                "normal_mode_vectors = eigenvectors_A\n",
                "\n",
                "print(\"\\nNormal Mode Vectors (Eigenvectors):\")\n",
                "for i in range(normal_mode_vectors.shape[1]):\n",
                "    print(f\"Mode {i+1}: {normal_mode_vectors[:, i]}\")"
            ]
        },
        {
            "cell_type": "markdown",
            "metadata": {},
            "source": [
                "## Calculated Frequencies and Mode Vectors\n",
                "The code cell above calculates and prints the system matrix `A`, its eigenvalues (`-omega^2`), the derived angular frequencies (`omega` in rad/s), the normal mode frequencies (in Hz), and the corresponding normal mode vectors (eigenvectors). \n",
                "Each eigenvector (column in the 'Normal Mode Vectors' output) shows the relative displacement of the three pendulums for that mode."
            ]
        },
        {
            "cell_type": "markdown",
            "metadata": {},
            "source": [
                "## Normal Mode Visualization\n",
                "The following plots visualize the normal modes (eigenvectors) of the system. \n",
                "Each plot corresponds to one normal mode, displaying the relative amplitudes of oscillation for the three pendulums. \n",
                "The title of each plot indicates the mode number and its calculated frequency in Hz."
            ]
        },
        {
            "cell_type": "code",
            "metadata": {},
            "execution_count": null,
            "outputs": [],
            "source": [
                "# Plotting the Normal Modes\n",
                "\n",
                "# Ensure normal_mode_frequencies_hz and normal_mode_vectors are available from previous cell execution\n",
                "num_modes = normal_mode_vectors.shape[1]\n",
                "pendulum_indices = np.arange(1, normal_mode_vectors.shape[0] + 1)  # Should be 1, 2, 3\n",
                "\n",
                "for i in range(num_modes):\n",
                "    mode_vector = normal_mode_vectors[:, i] # Get i-th column\n",
                "    frequency_hz = normal_mode_frequencies_hz[i]\n",
                "    \n",
                "    plt.figure(figsize=(6, 4))\n",
                "    # Create a bar plot for the mode shape. Using bar makes it clear these are distinct components.\n",
                "    # Alternatively, one could use plt.plot(pendulum_indices, mode_vector, 'o', markersize=10) for dots\n",
                "    bars = plt.bar(pendulum_indices, mode_vector, width=0.5, tick_label=['Pendulum 1', 'Pendulum 2', 'Pendulum 3'])\n",
                "    # Add text labels on top of each bar\n",
                "    for bar in bars:\n",
                "        yval = bar.get_height()\n",
                "        plt.text(bar.get_x() + bar.get_width()/2.0, yval, f'{yval:.3f}', va='bottom' if yval >=0 else 'top', ha='center')\n",
                "        \n",
                "    plt.xlabel(\"Pendulum Component\")\n",
                "    plt.ylabel(\"Amplitude (relative)\")\n",
                "    plt.title(f\"Normal Mode {i+1} (Frequency: {frequency_hz:.3f} Hz)\")\n",
                "    plt.axhline(0, color='black', linewidth=0.5) # Add a zero line for reference\n",
                "    plt.grid(axis='y', linestyle='--')\n",
                "    plt.xticks(pendulum_indices, ['Pendulum 1', 'Pendulum 2', 'Pendulum 3']) # Ensure x-ticks are correctly labeled\n",
                "    plt.show()\n"
            ]
        }
    ],
    "metadata": {
        "kernelspec": {
            "display_name": "Python 3",
            "language": "python",
            "name": "python3"
        },
        "language_info": {
            "codemirror_mode": {
                "name": "ipython",
                "version": 3
            },
            "file_extension": ".py",
            "mimetype": "text/x-python",
            "name": "python",
            "nbconvert_exporter": "python",
            "pygments_lexer": "ipython3",
            "version": "3.10.6"
        }
    },
    "nbformat": 4,
    "nbformat_minor": 5
}
