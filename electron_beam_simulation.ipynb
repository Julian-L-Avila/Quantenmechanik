{
 "cells": [
  {
   "cell_type": "markdown",
   "metadata": {},
   "source": [
    "# Electron Beam Simulation\n",
    "\n",
    "This notebook simulates the motion of an electron beam subjected to time-varying magnetic fields. The equations of motion are given by:\n",
    "\n",
    "$$ m \\ddot{x}_1 = \\frac{e}{2c} \\left( x_3 \\dot{B}_2 - x_2 \\dot{B}_3 \\right) $$\n",
    "$$ m \\ddot{x}_2 = \\frac{e}{c} \\left( \\frac{1}{2} x_1 \\dot{B}_3 - \\dot{x}_1 B_3 \\right) $$\n",
    "$$ m \\ddot{x}_3 = \\frac{e}{c} \\left( -\\frac{1}{2} x_1 \\dot{B}_2 + \\dot{x}_1 B_2 \\right) $$\n",
    "\n",
    "where $B_2(t) = B_{02} \\sin(\\omega_2 t)$ and $B_3(t) = B_{03} \\sin(\\omega_3 t)$.\n",
    "\n",
    "Electrons are shot one after another in the $e_1$ direction and hit a screen after traveling a length $L$. The time `t` in $B(t)$ is relative to the launch of each individual electron."
   ]
  },
  {
   "cell_type": "code",
   "execution_count": null,
   "metadata": {},
   "outputs": [],
   "source": [
    "import numpy as np\n",
    "from scipy.integrate import solve_ivp\n",
    "import matplotlib.pyplot as plt"
   ]
  },
  {
   "cell_type": "markdown",
   "metadata": {},
   "source": [
    "## Define Physical Constants and Simulation Parameters"
   ]
  },
  {
   "cell_type": "code",
   "execution_count": null,
   "metadata": {},
   "outputs": [],
   "source": [
    "# Physical constants (Gaussian units)\n",
    "m_e = 9.10938356e-28  # Mass of electron (g)\n",
    "e_charge = 4.80320425e-10 # Charge of electron (statcoulomb or esu)\n",
    "c_light = 2.99792458e10   # Speed of light (cm/s)\n",
    "\n",
    "# Simulation parameters (can be changed by the user)\n",
    "B_02_sim = 10.0  # Gauss\n",
    "B_03_sim = 10.0  # Gauss\n",
    "w_2_sim = 1.0e7    # rad/s\n",
    "w_3_sim = 1.5e7    # rad/s\n",
    "L_sim = 100.0    # cm (length of the beam path to the screen)\n",
    "v_initial_sim = c_light / 10.0 # Initial velocity in x1 direction (e.g., 10% of c)\n",
    "\n",
    "num_electrons_sim = 200 # Number of electrons to simulate (increased for better pattern)\n",
    "\n",
    "# Note: The problem statement implies electrons are shot \"one after the other\".\n",
    "# This can be interpreted in two ways:\n",
    "# 1. Each electron starts at t=0 for the B-field equations (B-field phase is relative to its own launch).\n",
    "# 2. There's a global time, and electron_k is launched at t_k. B-fields are B(global_time).\n",
    "# The current implementation uses interpretation 1 for simplicity, as the equations of motion\n",
    "# are given with 't' which is most naturally the time variable for *that particle's* trajectory integration.\n",
    "# If interpretation 2 was intended, the B-field functions would need to take an additional\n",
    "# t_launch_offset for each electron, or the solver's time 't' would need to be adjusted."
   ]
  },
  {
   "cell_type": "markdown",
   "metadata": {},
   "source": [
    "## Define Magnetic Fields and Their Derivatives"
   ]
  },
  {
   "cell_type": "code",
   "execution_count": null,
   "metadata": {},
   "outputs": [],
   "source": [
    "def B2_field(t, B_02_param, w_2_param):\n",
    "    return B_02_param * np.sin(w_2_param * t)\n",
    "\n",
    "def dB2_dt_field(t, B_02_param, w_2_param):\n",
    "    return B_02_param * w_2_param * np.cos(w_2_param * t)\n",
    "\n",
    "def B3_field(t, B_03_param, w_3_param):\n",
    "    return B_03_param * np.sin(w_3_param * t)\n",
    "\n",
    "def dB3_dt_field(t, B_03_param, w_3_param):\n",
    "    return B_03_param * w_3_param * np.cos(w_3_param * t)"
   ]
  },
  {
   "cell_type": "markdown",
   "metadata": {},
   "source": [
    "## Equations of Motion"
   ]
  },
  {
   "cell_type": "code",
   "execution_count": null,
   "metadata": {},
   "outputs": [],
   "source": [
    "def equations_of_motion(t, y, m, e, c, B_02_param, w_2_param, B_03_param, w_3_param):\n",
    "    x1, x2, x3, v1, v2, v3 = y\n",
    "    \n",
    "    B2_t = B2_field(t, B_02_param, w_2_param)\n",
    "    dB2_dt_t = dB2_dt_field(t, B_02_param, w_2_param)\n",
    "    B3_t = B3_field(t, B_03_param, w_3_param)\n",
    "    dB3_dt_t = dB3_dt_field(t, B_03_param, w_3_param)\n",
    "    \n",
    "    a1 = (e / (2 * m * c)) * (x3 * dB2_dt_t - x2 * dB3_dt_t)\n",
    "    a2 = (e / (m * c)) * (0.5 * x1 * dB3_dt_t - v1 * B3_t)\n",
    "    a3 = (e / (m * c)) * (-0.5 * x1 * dB2_dt_t + v1 * B2_t)\n",
    "    \n",
    "    return [v1, v2, v3, a1, a2, a3]"
   ]
  },
  {
   "cell_type": "markdown",
   "metadata": {},
   "source": [
    "## Simulate Electron Trajectories"
   ]
  },
  {
   "cell_type": "code",
   "execution_count": null,
   "metadata": {},
   "outputs": [],
   "source": [
    "screen_positions_x2 = []\n",
    "screen_positions_x3 = []\n",
    "\n",
    "t_flight_approx = L_sim / v_initial_sim\n",
    "\n",
    "print(f\"Approximate time of flight: {t_flight_approx:.2e} s\")\n",
    "print(f\"Simulating {num_electrons_sim} electrons...\")\n",
    "\n",
    "for i in range(num_electrons_sim):\n",
    "    # For this problem, each electron is launched at a slightly different phase of the B fields.\n",
    "    # We model this by introducing a t_offset for the B fields that varies for each electron.\n",
    "    # A simple way to get varied phases is to use a random offset, or a sequential one.\n",
    "    # Let's use a sequential offset based on a characteristic time scale of the fields.\n",
    "    # This simulates electrons being released at slightly different times into the evolving fields.\n",
    "    characteristic_period = 2 * np.pi / max(w_2_sim, w_3_sim)\n",
    "    t_offset = (i / num_electrons_sim) * characteristic_period * 5 # Cover a few periods of oscillation\n",
    "\n",
    "    y0 = [0, 0, 0, v_initial_sim, 0, 0]\n",
    "    t_span = (0, t_flight_approx) \n",
    "    num_time_points = int(max(w_2_sim, w_3_sim) * t_flight_approx / (2*np.pi) * 30) # 30 points per oscillation\n",
    "    num_time_points = max(num_time_points, 200) \n",
    "    t_eval = np.linspace(t_span[0], t_span[1], num_time_points)\n",
    "\n",
    "    # Wrapper for equations of motion to include t_offset for B-field calculations\n",
    "    def eom_with_offset(t_particle, y_particle):\n",
    "        global_t = t_particle + t_offset # The time experienced by B-fields\n",
    "        return equations_of_motion(global_t, y_particle, m_e, e_charge, c_light, \n",
    "                                   B_02_sim, w_2_sim, B_03_sim, w_3_sim)\n",
    "\n",
    "    sol = solve_ivp(\n",
    "        eom_with_offset, \n",
    "        t_span, \n",
    "        y0, \n",
    "        dense_output=True,\n",
    "        t_eval=t_eval,\n",
    "        method='RK45'\n",
    "    )\n",
    "    \n",
    "    final_state = sol.y[:, -1]\n",
    "    screen_positions_x2.append(final_state[1])\n",
    "    screen_positions_x3.append(final_state[2])\n",
    "    \n",
    "    if (i+1) % (num_electrons_sim // 10) == 0:\n",
    "        print(f\"  Simulated {i+1}/{num_electrons_sim} electrons...\")\n",
    "\n",
    "print(\"Simulation complete.\")"
   ]
  },
  {
   "cell_type": "markdown",
   "metadata": {},
   "source": [
    "## Plot the Screen Pattern"
   ]
  },
  {
   "cell_type": "code",
   "execution_count": null,
   "metadata": {},
   "outputs": [],
   "source": [
    "plt.figure(figsize=(8, 8))\n",
    "plt.scatter(screen_positions_x2, screen_positions_x3, s=5, alpha=0.6)\n",
    "plt.title(f'Electron Beam Pattern on Screen (L={L_sim} cm)')\n",
    "plt.xlabel('$x_2$ position (cm)')\n",
    "plt.ylabel('$x_3$ position (cm)')\n",
    "plt.grid(True)\n",
    "plt.axis('equal') # Ensure x2 and x3 axes have the same scale\n",
    "plt.show()"
   ]
  }
 ],
 "metadata": {
  "kernelspec": {
   "display_name": "Python 3",
   "language": "python",
   "name": "python3"
  },
  "language_info": {
   "codemirror_mode": {
    "name": "ipython",
    "version": 3
   },
   "file_extension": ".py",
   "mimetype": "text/x-python",
   "name": "python",
   "nbconvert_exporter": "python",
   "pygments_lexer": "ipython3",
   "version": "3.10.12" # This might need to be updated based on the execution environment
  }
 },
 "nbformat": 4,
 "nbformat_minor": 5
}
